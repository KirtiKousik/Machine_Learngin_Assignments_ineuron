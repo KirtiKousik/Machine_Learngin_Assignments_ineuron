{
  "nbformat": 4,
  "nbformat_minor": 0,
  "metadata": {
    "colab": {
      "provenance": [],
      "authorship_tag": "ABX9TyPXxZAp/7+aHH/8f1fsB1vu",
      "include_colab_link": true
    },
    "kernelspec": {
      "name": "python3",
      "display_name": "Python 3"
    },
    "language_info": {
      "name": "python"
    }
  },
  "cells": [
    {
      "cell_type": "markdown",
      "metadata": {
        "id": "view-in-github",
        "colab_type": "text"
      },
      "source": [
        "<a href=\"https://colab.research.google.com/github/KirtiKousik/Machine_Learngin_Assignments_ineuron/blob/main/ML_Assignment_10.ipynb\" target=\"_parent\"><img src=\"https://colab.research.google.com/assets/colab-badge.svg\" alt=\"Open In Colab\"/></a>"
      ]
    },
    {
      "cell_type": "markdown",
      "source": [
        "# 1. Define the Bayesian interpretation of probability.\n"
      ],
      "metadata": {
        "id": "WAcxHJrMPJX2"
      }
    },
    {
      "cell_type": "markdown",
      "source": [
        "- The Bayesian interpretation of probability is a statistical concept that views probability as a measure of uncertainty, representing the degree of belief or confidence in a certain event, hypothesis or outcome based on available evidence or prior knowledge. In Bayesian statistics, probabilities are assigned to possible outcomes or events, which are then updated as new information or data is obtained. Bayesian probability is calculated by combining prior knowledge and evidence or data through Bayes' theorem, which uses conditional probability to calculate the probability of an event or hypothesis based on new evidence. Bayesian inference involves updating the prior probability with the likelihood of the data to obtain the posterior probability, which represents the updated belief or probability in the hypothesis or event. The Bayesian interpretation of probability is widely used in many fields, including machine learning, artificial intelligence, statistics, and decision making."
      ],
      "metadata": {
        "id": "1gjr1RPGPuC7"
      }
    },
    {
      "cell_type": "markdown",
      "source": [
        "# 2. Define probability of a union of two events with equation.\n"
      ],
      "metadata": {
        "id": "ZJkhVmQ8PLi2"
      }
    },
    {
      "cell_type": "markdown",
      "source": [
        "- The probability of the union of two events A and B is given by the equation:\n",
        "\n",
        "    P(A ∪ B) = P(A) + P(B) - P(A ∩ B)\n",
        "\n",
        "    - where P(A) is the probability of event A, P(B) is the probability of event B, and P(A ∩ B) is the probability of the intersection of events A and B. The formula accounts for the fact that the intersection of events A and B is counted twice when we sum the probabilities of events A and B, so we need to subtract the probability of the intersection to avoid double-counting."
      ],
      "metadata": {
        "id": "5h0gY0F-P0GG"
      }
    },
    {
      "cell_type": "markdown",
      "source": [
        "# 3. What is joint probability? What is its formula?\n"
      ],
      "metadata": {
        "id": "KqNfxIQ1PNXo"
      }
    },
    {
      "cell_type": "markdown",
      "source": [
        "- Joint probability is a statistical measure that calculates the likelihood of two events occurring simultaneously. It is the probability of the intersection of two events. The formula for the joint probability of two events A and B is:\n",
        "\n",
        "    P(A ∩ B) = P(A) × P(B | A)\n",
        "\n",
        "    - where P(A) is the probability of event A occurring, P(B | A) is the conditional probability of event B occurring given that event A has occurred. The symbol \"∩\" represents the intersection of events."
      ],
      "metadata": {
        "id": "eS7RyKTMP73c"
      }
    },
    {
      "cell_type": "markdown",
      "source": [
        "# 4. What is chain rule of probability?\n"
      ],
      "metadata": {
        "id": "esMGFoKGPPFR"
      }
    },
    {
      "cell_type": "markdown",
      "source": [
        "- The chain rule of probability is a formula used to calculate the joint probability of events that can be expressed as a product of conditional probabilities. It is based on the idea that the probability of an event can be affected by the occurrence of previous events.\n",
        "\n",
        "- Mathematically, the chain rule can be expressed as:\n",
        "\n",
        "    P(A1, A2, A3, ..., An) = P(A1) * P(A2 | A1) * P(A3 | A1, A2) * ... * P(An | A1, A2, ..., An-1)\n",
        "\n",
        "    - where P(A1, A2, A3, ..., An) represents the joint probability of events A1, A2, A3, ..., An, and P(Ai | A1, A2, ..., Ai-1) represents the conditional probability of event Ai given the occurrence of events A1, A2, ..., Ai-1."
      ],
      "metadata": {
        "id": "NnS5BkF3QCnD"
      }
    },
    {
      "cell_type": "markdown",
      "source": [
        "# 5. What is conditional probability means? What is the formula of it?\n"
      ],
      "metadata": {
        "id": "o3j-ImybPREI"
      }
    },
    {
      "cell_type": "markdown",
      "source": [
        "- Conditional probability is the probability of an event occurring, given that another event has already occurred. It is denoted as P(A | B), which is read as \"the probability of A given B.\" The formula for conditional probability is:\n",
        "\n",
        "    P(A | B) = P(A and B) / P(B)\n",
        "\n",
        "- Here, P(A and B) represents the probability of both A and B occurring together, and P(B) represents the probability of the event B occurring."
      ],
      "metadata": {
        "id": "LrL58wNlQOJT"
      }
    },
    {
      "cell_type": "markdown",
      "source": [
        "# 6. What are continuous random variables?\n"
      ],
      "metadata": {
        "id": "rOEJdb4gPSzh"
      }
    },
    {
      "cell_type": "markdown",
      "source": [
        "- In probability theory and statistics, a continuous random variable is a variable that can take any value within a certain range of possible values. This is in contrast to a discrete random variable, which can only take on a finite or countably infinite set of values.\n",
        "\n",
        "- Continuous random variables are typically associated with measurements of quantities that can take on any value within a certain range, such as height, weight, or temperature. The probability distribution of a continuous random variable is described by a probability density function (PDF), which specifies the relative likelihood of different values of the variable occurring.\n",
        "\n",
        "- Examples of continuous random variables include the time it takes to complete a task, the temperature at a given time, and the amount of rainfall in a particular location during a certain time period."
      ],
      "metadata": {
        "id": "LXPpRgRvQbbx"
      }
    },
    {
      "cell_type": "markdown",
      "source": [
        "# 7. What are Bernoulli distributions? What is the formula of it?\n"
      ],
      "metadata": {
        "id": "7paz-tQnPUbY"
      }
    },
    {
      "cell_type": "markdown",
      "source": [
        "- A Bernoulli distribution is a discrete probability distribution representing a random variable that takes on one of two possible outcomes with a given probability of success or failure. The outcomes are typically labeled as \"success\" and \"failure,\" and the probability of success is represented by the parameter p.\n",
        "\n",
        "- The Bernoulli distribution can be defined by the following probability mass function:\n",
        "\n",
        "    P(X = 1) = p\n",
        "\n",
        "    P(X = 0) = 1 - p\n",
        "\n",
        "- where X is the random variable, and p is the probability of success. The distribution is characterized by a single parameter p, which represents the probability of success.\n",
        "\n",
        "- Bernoulli distributions are often used to model binary outcomes, such as the success or failure of an experiment, or the presence or absence of a particular trait in a population."
      ],
      "metadata": {
        "id": "NAzhOnRmQg7d"
      }
    },
    {
      "cell_type": "markdown",
      "source": [
        "# 8. What is binomial distribution? What is the formula?\n"
      ],
      "metadata": {
        "id": "6Il2uxtMPWGK"
      }
    },
    {
      "cell_type": "markdown",
      "source": [
        "- Binomial distribution is a probability distribution that describes the number of successes in a fixed number of independent trials, each with the same probability of success. The distribution is characterized by two parameters: the number of trials, denoted by n, and the probability of success on each trial, denoted by p.\n",
        "\n",
        "- The formula for the probability mass function of a binomial distribution is:\n",
        "\n",
        "    P(X = k) = (n choose k) * p^k * (1 - p)^(n - k)\n",
        "\n",
        "- where X is the random variable representing the number of successes, k is a non-negative integer less than or equal to n, (n choose k) is the binomial coefficient, which is equal to n! / (k! * (n - k)!), and p is the probability of success on each trial."
      ],
      "metadata": {
        "id": "lDdbEAbsQq6N"
      }
    },
    {
      "cell_type": "markdown",
      "source": [
        "# 9. What is Poisson distribution? What is the formula?\n"
      ],
      "metadata": {
        "id": "f1dh3ng6PWBI"
      }
    },
    {
      "cell_type": "markdown",
      "source": [
        "- Poisson distribution is a discrete probability distribution that gives the probability of a certain number of events occurring in a fixed interval of time or space when the events occur independently of the time since the last event. The Poisson distribution is often used in situations where events occur at a known average rate, but the exact timing of individual events is random.\n",
        "\n",
        "- The probability mass function (PMF) of Poisson distribution is given by:\n",
        "\n",
        "    P(X=k) = (λ^k * e^(-λ)) / k!\n",
        "\n",
        "- where X is the random variable denoting the number of events, λ is the average number of events occurring in the given time interval, e is the base of the natural logarithm, and k is a non-negative integer denoting the number of events.\n",
        "\n",
        "- In other words, the Poisson distribution tells us the probability of observing k events in a fixed time interval, given the expected number of events λ. The distribution is characterized by the parameter λ, which represents the mean and variance of the distribution."
      ],
      "metadata": {
        "id": "ABhErJkqQyd8"
      }
    },
    {
      "cell_type": "markdown",
      "source": [
        "# 10. Define covariance.\n"
      ],
      "metadata": {
        "id": "m8rFrvZFPaj-"
      }
    },
    {
      "cell_type": "markdown",
      "source": [
        "- Covariance is a measure of the joint variability of two random variables. It measures how two variables change together. Specifically, covariance is the expected value of the product of the deviations of two random variables from their respective means. The formula for the covariance of two random variables X and Y is:\n",
        "\n",
        "    Cov(X, Y) = E[(X - E[X])(Y - E[Y])]\n",
        "\n",
        "- Where E[X] and E[Y] are the expected values of X and Y, respectively."
      ],
      "metadata": {
        "id": "-kL1NDQpQ5Qz"
      }
    },
    {
      "cell_type": "markdown",
      "source": [
        "# 11. Define correlation\n"
      ],
      "metadata": {
        "id": "pEVV7L-fPcML"
      }
    },
    {
      "cell_type": "markdown",
      "source": [
        "- Correlation is a statistical measure that describes the degree of association or relationship between two variables. It indicates the direction and strength of the linear relationship between two variables. The correlation coefficient can range from -1 to +1, where -1 indicates a perfect negative correlation, +1 indicates a perfect positive correlation, and 0 indicates no correlation. A positive correlation indicates that as one variable increases, the other variable also tends to increase, while a negative correlation indicates that as one variable increases, the other variable tends to decrease."
      ],
      "metadata": {
        "id": "BRNs418ZQ-a-"
      }
    },
    {
      "cell_type": "markdown",
      "source": [
        "# 12. Define sampling with replacement. Give example.\n"
      ],
      "metadata": {
        "id": "tLOE9nPYPd8m"
      }
    },
    {
      "cell_type": "markdown",
      "source": [
        "- Sampling with replacement is a method of selecting items from a population in which each item has an equal chance of being selected each time, and once selected, it is returned to the population before the next selection is made. This means that the selected item can be chosen again in the next selection, and there is no limit to the number of times an item can be selected.\n",
        "\n",
        "- For example, consider a jar containing 10 balls, numbered 1 through 10. If we sample 2 balls with replacement, we select one ball from the jar, record its number, and then return it to the jar before selecting the next ball. This means that we could select ball #3 first, put it back, and then select ball #3 again as the second ball. The same ball can be selected more than once because it is replaced after each selection."
      ],
      "metadata": {
        "id": "e2IwVsXaRFIU"
      }
    },
    {
      "cell_type": "markdown",
      "source": [
        "# 13. What is sampling without replacement? Give example.\n"
      ],
      "metadata": {
        "id": "PJlNJLLZPfk6"
      }
    },
    {
      "cell_type": "markdown",
      "source": [
        "- Sampling without replacement is a method of selecting individuals from a population in which each selected individual is not replaced before the next selection. In other words, once an individual is selected, it is removed from the population and cannot be selected again. This can be contrasted with sampling with replacement, where each individual is returned to the population before the next selection.\n",
        "\n",
        "- For example, suppose we have a deck of 52 cards, and we want to select a random sample of 5 cards without replacement. We would start by selecting one card from the deck, then another, and so on, until we have selected 5 cards. Each time we select a card, we remove it from the deck, so that it cannot be selected again. This ensures that the sample is not biased by repeated selection of the same individuals."
      ],
      "metadata": {
        "id": "EdjldZUcRK-3"
      }
    },
    {
      "cell_type": "markdown",
      "source": [
        "# 14. What is hypothesis? Give example."
      ],
      "metadata": {
        "id": "G5CMZjn1PhrZ"
      }
    },
    {
      "cell_type": "markdown",
      "source": [
        "- In statistics, a hypothesis is an assumption or claim about a population parameter or distribution that needs to be tested using sample data. The goal is to determine whether the data supports or contradicts the hypothesis.\n",
        "\n",
        "- For example, a researcher might have a hypothesis that there is a difference in the mean height of male and female students in a particular college. To test this hypothesis, the researcher can collect a random sample of male and female students from the college and measure their height. The data collected can then be used to perform a statistical test to determine whether there is a significant difference in the mean height between the two groups. If the test results provide strong evidence against the hypothesis, the researcher may need to revise their original assumption or develop a new hypothesis to explain the data."
      ],
      "metadata": {
        "id": "cIY3xyqvRQD6"
      }
    }
  ]
}