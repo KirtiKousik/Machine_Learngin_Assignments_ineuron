{
  "nbformat": 4,
  "nbformat_minor": 0,
  "metadata": {
    "colab": {
      "provenance": [],
      "authorship_tag": "ABX9TyPnSb7F1KPbVoZPDngaa067",
      "include_colab_link": true
    },
    "kernelspec": {
      "name": "python3",
      "display_name": "Python 3"
    },
    "language_info": {
      "name": "python"
    }
  },
  "cells": [
    {
      "cell_type": "markdown",
      "metadata": {
        "id": "view-in-github",
        "colab_type": "text"
      },
      "source": [
        "<a href=\"https://colab.research.google.com/github/KirtiKousik/Machine_Learngin_Assignments_ineuron/blob/main/ML_Assignment_05.ipynb\" target=\"_parent\"><img src=\"https://colab.research.google.com/assets/colab-badge.svg\" alt=\"Open In Colab\"/></a>"
      ]
    },
    {
      "cell_type": "markdown",
      "source": [
        "# 1. What are the key tasks that machine learning entails? What does data pre-processing imply?\n"
      ],
      "metadata": {
        "id": "VNSCS0trVTO8"
      }
    },
    {
      "cell_type": "markdown",
      "source": [
        "- Machine learning involves a variety of tasks that can broadly be categorized into the following:\n",
        "\n",
        "    1. Data collection: Machine learning algorithms require data to learn patterns and make predictions. Collecting and assembling the relevant data is a key task in machine learning.\n",
        "\n",
        "    2. Data pre-processing: This is the step where the data is cleaned, transformed, and formatted to prepare it for analysis. It involves tasks such as removing missing or incorrect data, transforming categorical variables, and scaling numerical variables.\n",
        "\n",
        "    3. Feature selection: Machine learning algorithms work by identifying patterns in the data. Feature selection is the process of identifying the most relevant variables or features that can help the algorithm make accurate predictions.\n",
        "\n",
        "    4. Model selection: Machine learning algorithms come in various forms, such as decision trees, neural networks, and support vector machines. The selection of the appropriate algorithm for the task at hand is an essential step in the machine learning process.\n",
        "\n",
        "    5. Model training: Once the appropriate algorithm has been selected, the next step is to train the model using the data. This involves adjusting the model's parameters to minimize the error between the predicted values and the actual values.\n",
        "\n",
        "    6. Model evaluation: After the model has been trained, it needs to be evaluated to determine how well it performs on new data. This involves using a separate set of data to test the model's performance.\n",
        "\n",
        "    7. Model deployment: Once the model has been trained and evaluated, it can be deployed in a production environment to make predictions on new data.\n",
        "\n",
        "- Data pre-processing is a crucial step in the machine learning process. It involves preparing the data for analysis by cleaning, transforming, and formatting it. Data pre-processing tasks can include handling missing values, scaling or normalizing features, handling categorical data, and reducing dimensionality. The quality of the pre-processed data can have a significant impact on the performance of the machine learning model. Therefore, it is important to pay close attention to this step in the process."
      ],
      "metadata": {
        "id": "N3txyzDWWPvH"
      }
    },
    {
      "cell_type": "markdown",
      "source": [
        "# 2. Describe quantitative and qualitative data in depth. Make a distinction between the two.\n"
      ],
      "metadata": {
        "id": "QOcom86GVXpg"
      }
    },
    {
      "cell_type": "markdown",
      "source": [
        "- Quantitative and qualitative data are two distinct types of data used in research and analysis. The main differences between these two types of data are the nature of the data collected, the measurement scales used, and the statistical techniques used to analyze them.\n",
        "\n",
        "- Quantitative data refers to data that can be measured and expressed numerically. This type of data is typically collected using standardized instruments or measurements and is often analyzed using statistical techniques. Quantitative data can be continuous, such as height or weight, or discrete, such as the number of children in a family or the number of cars sold in a particular month. The measurement scales used for quantitative data can be interval, ratio, or ordinal, with each level providing different types of information about the data. Examples of quantitative data include test scores, sales figures, and demographic data such as age or income.\n",
        "\n",
        "- Qualitative data, on the other hand, refers to data that is non-numeric and often takes the form of words, images, or sounds. This type of data is typically collected through interviews, focus groups, observations, or other forms of non-structured data collection. Qualitative data is often analyzed through coding, categorization, and thematic analysis to identify patterns and themes. Qualitative data can be used to capture complex social phenomena, such as attitudes, beliefs, and perceptions, that may be difficult to measure quantitatively. Examples of qualitative data include open-ended survey responses, interview transcripts, and field notes from participant observation studies.\n",
        "\n",
        "- In summary, quantitative and qualitative data differ in terms of the type of data collected, the measurement scales used, and the statistical techniques used to analyze them. Quantitative data is numeric and can be analyzed using statistical methods, while qualitative data is non-numeric and is often analyzed using coding and categorization techniques to identify patterns and themes. Both types of data have their strengths and weaknesses, and researchers often use a combination of both types of data to gain a more comprehensive understanding of the phenomenon under investigation."
      ],
      "metadata": {
        "id": "oOmOx7s-Wj8s"
      }
    },
    {
      "cell_type": "markdown",
      "source": [
        "# 3. Create a basic data collection that includes some sample records. Have at least one attribute from each of the machine learning data types."
      ],
      "metadata": {
        "id": "2OalRtDyVZ4Y"
      }
    },
    {
      "cell_type": "markdown",
      "source": [
        "- Sure, here's an example of a basic data collection with sample records that includes at least one attribute from each of the machine learning data types:\n",
        "\n",
        "\n",
        "\n",
        "```\n",
        "    ID\tAge\t Gender\t Income\t Education Level\t Purchased\n",
        "    -----------------------------------------------------------------\n",
        "    \n",
        "    1\t25\t Male\t     35000\t  Bachelor's\t         No\n",
        "    \n",
        "    2\t30\t Female\t   50000\t  Master's\t           Yes\n",
        "    \n",
        "    3\t40\t Male\t     75000\t  Doctorate\t          Yes\n",
        "    \n",
        "    4\t35\t Female\t   60000\t  High School\t        No\n",
        "    \n",
        "    5\t28\t Male\t     45000\t  Associate's\t        Yes\n",
        "```\n",
        "\n",
        "\n",
        "\n",
        "- In this example, we have five sample records that include the following attributes:\n",
        "\n",
        "    - ID - this is a unique identifier for each record, and it is a discrete quantitative variable.\n",
        "\n",
        "    - Age - this is the age of the individual, and it is a continuous quantitative variable.\n",
        "\n",
        "    - Gender - this is the gender of the individual, and it is a categorical variable.\n",
        "\n",
        "    - Income - this is the annual income of the individual, and it is a continuous quantitative variable.\n",
        "\n",
        "    - Education Level - this is the highest level of education attained by the individual, and it is a categorical variable.\n",
        "\n",
        "    - Purchased - this is a binary variable indicating whether the individual has made a purchase, and it is a categorical variable.\n",
        "\n",
        "- These attributes cover all three types of machine learning data: numerical (age and income), categorical (gender, education level, and purchased), and ordinal (education level). This type of data collection can be used for a variety of machine learning tasks, such as predictive modeling, clustering, or classification."
      ],
      "metadata": {
        "id": "Tv-s2Dt0W6RF"
      }
    },
    {
      "cell_type": "markdown",
      "source": [
        "# 4. What are the various causes of machine learning data issues? What are the ramifications?\n",
        "\n"
      ],
      "metadata": {
        "id": "_XP8EnqvWbe8"
      }
    },
    {
      "cell_type": "markdown",
      "source": [
        "- There are various causes of machine learning data issues that can negatively impact the performance of machine learning models. Here are some of the most common causes of data issues in machine learning:\n",
        "\n",
        "    1. Incomplete or missing data: This occurs when data is not collected for all the required attributes or when data is lost due to errors or corruption. The impact of this issue is that the model may not be able to make accurate predictions, leading to inaccurate or biased results.\n",
        "\n",
        "    2. Outliers: These are data points that are significantly different from the other data points and can distort the model's accuracy. The presence of outliers can cause the model to be overfitted or underfitted, which can result in inaccurate predictions.\n",
        "\n",
        "    3. Imbalanced data: This occurs when the number of instances in one class is much higher than the number of instances in the other class. The impact of this issue is that the model may be biased towards the majority class and may not perform well in predicting the minority class.\n",
        "\n",
        "    4. Inconsistent data: This occurs when there are inconsistencies in the data such as different units of measurement or conflicting data. The impact of this issue is that the model may not be able to handle the data correctly and may provide incorrect predictions.\n",
        "\n",
        "    5. Incorrect or inaccurate data: This occurs when the data collected is incorrect or inaccurate. The impact of this issue is that the model may not be able to make accurate predictions and may provide misleading results.\n",
        "\n",
        "- The ramifications of these data issues can be severe. Inaccurate or biased predictions can lead to poor decision making, wasted resources, and even potentially harmful outcomes. For example, if a machine learning model is used to make medical diagnoses and it is trained on imbalanced or inaccurate data, it may lead to incorrect diagnoses, which can have serious consequences for patients. Additionally, inaccurate predictions can lead to decreased user confidence in the model, which can negatively impact its adoption and usefulness. Therefore, it is crucial to identify and address data issues to ensure that machine learning models are accurate, reliable, and safe to use."
      ],
      "metadata": {
        "id": "BM4L5IzDYnFi"
      }
    },
    {
      "cell_type": "markdown",
      "source": [
        "# 5. Demonstrate various approaches to categorical data exploration with appropriate examples.\n"
      ],
      "metadata": {
        "id": "U3hkk8uLWdOc"
      }
    },
    {
      "cell_type": "code",
      "source": [
        "import matplotlib.pyplot as plt\n",
        "import numpy as np"
      ],
      "metadata": {
        "id": "5dM9mMrNZjfS"
      },
      "execution_count": 1,
      "outputs": []
    },
    {
      "cell_type": "markdown",
      "source": [
        "- Data:"
      ],
      "metadata": {
        "id": "IHKd1tzBZn3K"
      }
    },
    {
      "cell_type": "code",
      "source": [
        "label = ['Car', 'Bike', 'Truck', 'Cycle', 'Jeeps', 'Ambulance']\n",
        "no_vehicle = [941, 854, 4595, 2125, 942, 509]"
      ],
      "metadata": {
        "id": "3g1MKDy5Zppr"
      },
      "execution_count": 2,
      "outputs": []
    },
    {
      "cell_type": "markdown",
      "source": [
        "- Indexing Data:"
      ],
      "metadata": {
        "id": "XlcwEe0FZzmX"
      }
    },
    {
      "cell_type": "code",
      "source": [
        "index = np.arange(len(label))\n",
        " \n",
        "print (\"Total Labels : \", len(label))\n",
        "print (\"Indexing : \", index)"
      ],
      "metadata": {
        "colab": {
          "base_uri": "https://localhost:8080/"
        },
        "id": "DM47lihKZ6-9",
        "outputId": "13b912ca-70d1-419b-9ccd-a6c6d0a5e3d4"
      },
      "execution_count": 3,
      "outputs": [
        {
          "output_type": "stream",
          "name": "stdout",
          "text": [
            "Total Labels :  6\n",
            "Indexing :  [0 1 2 3 4 5]\n"
          ]
        }
      ]
    },
    {
      "cell_type": "markdown",
      "source": [
        "- Bar Graph:"
      ],
      "metadata": {
        "id": "C8PiPlfvZ-xG"
      }
    },
    {
      "cell_type": "code",
      "source": [
        "plt.bar(index, no_vehicle)\n",
        "plt.xlabel('Type', fontsize = 15)\n",
        "plt.ylabel('No of Vehicles', fontsize = 15)\n",
        "plt.xticks(index, label, fontsize = 10, rotation = 30)\n",
        "plt.title('Market Share for Each Genre 1995-2017')\n",
        " \n",
        "plt.show()"
      ],
      "metadata": {
        "colab": {
          "base_uri": "https://localhost:8080/",
          "height": 327
        },
        "id": "6rCwVMOqaCcn",
        "outputId": "12fa58de-bef7-4445-a06a-55c9bb58b62e"
      },
      "execution_count": 4,
      "outputs": [
        {
          "output_type": "display_data",
          "data": {
            "text/plain": [
              "<Figure size 432x288 with 1 Axes>"
            ],
            "image/png": "[encoded data removed]"
          },
          "metadata": {
            "needs_background": "light"
          }
        }
      ]
    },
    {
      "cell_type": "markdown",
      "source": [
        "- Pie Charts:"
      ],
      "metadata": {
        "id": "QF38yMFfaH5h"
      }
    },
    {
      "cell_type": "code",
      "source": [
        "plt.figure(figsize =(8, 8))\n",
        "plt.pie(no_vehicle, labels = label,\n",
        "        startangle = 90, autopct ='%.1f %%')\n",
        "plt.show()"
      ],
      "metadata": {
        "colab": {
          "base_uri": "https://localhost:8080/",
          "height": 466
        },
        "id": "Bdl9ltEMaLY1",
        "outputId": "f8a19558-6baf-4613-ffc9-4a957d6f00ad"
      },
      "execution_count": 5,
      "outputs": [
        {
          "output_type": "display_data",
          "data": {
            "text/plain": [
              "<Figure size 576x576 with 1 Axes>"
            ],
            "image/png": "[encoded data removed]"
          },
          "metadata": {}
        }
      ]
    },
    {
      "cell_type": "markdown",
      "source": [
        "# 6. How would the learning activity be affected if certain variables have missing values? Having said that, what can be done about it?"
      ],
      "metadata": {
        "id": "uK21KcTKWe3J"
      }
    },
    {
      "cell_type": "markdown",
      "source": [
        "- Missing values in machine learning datasets can cause problems for learning algorithms, and can result in errors or bias in the model. Here are some ways that missing values can affect learning and what can be done to address them:\n",
        "\n",
        "    - Reduced sample size: When data is missing, it reduces the sample size available for training the model. This can lead to reduced statistical power and the possibility of overfitting. To address this, one can either remove the samples with missing values or impute the missing values with some value, so that the sample size is not reduced.\n",
        "\n",
        "    - Biased estimates: If the missing values are not randomly distributed, the estimates for the model can become biased. This can be addressed by using methods that can handle missing data in a way that does not introduce bias into the estimates.\n",
        "\n",
        "    - Incorrect imputation: Imputing missing values with incorrect values can cause the learning algorithm to learn incorrect relationships in the data. To avoid this, imputing missing values should be done carefully using appropriate methods.\n",
        "\n",
        "- Here are some methods that can be used to address missing values:\n",
        "\n",
        "    - Deletion: The simplest approach is to remove any samples with missing values. This can be done using list-wise deletion (removing any samples with at least one missing value) or pair-wise deletion (keeping only the samples with complete data for a particular analysis).\n",
        "\n",
        "    - Mean imputation: Missing values can be imputed with the mean value of that feature across all other samples. This approach is simple and fast, but can introduce bias in the estimates.\n",
        "\n",
        "    - Model-based imputation: More sophisticated approaches use a model to impute missing values, such as regression or decision trees. These models can capture the relationships between features and impute missing values based on other features in the dataset.\n",
        "\n",
        "    - Multiple imputation: Multiple imputation generates multiple imputed datasets by adding random noise to the imputed values. This approach can improve the accuracy of imputation and can account for uncertainty in the imputed values.\n",
        "\n",
        "- In conclusion, missing values in machine learning datasets can have a significant impact on learning. The appropriate method for handling missing values depends on the specific dataset and the goals of the analysis. Careful consideration should be given to the method used to impute missing values to avoid introducing bias into the model."
      ],
      "metadata": {
        "id": "-OB_mvAaaVq7"
      }
    },
    {
      "cell_type": "markdown",
      "source": [
        "# 7. Describe the various methods for dealing with missing data values in depth.\n",
        "\n"
      ],
      "metadata": {
        "id": "2p2ShEI3YYBU"
      }
    },
    {
      "cell_type": "markdown",
      "source": [
        "- Missing data values are a common problem in machine learning datasets. They can be caused by a variety of reasons, such as data entry errors, data loss during transmission, or incomplete data recording. When dealing with missing data, there are several methods that can be used to address this issue. Here, I'll describe some of the most commonly used methods for handling missing data in depth.\n",
        "\n",
        "    - Listwise deletion:\n",
        "\n",
        "    This method involves simply removing any samples that contain missing data. Listwise deletion can be performed either pairwise or listwise. Pairwise deletion removes only those observations that contain missing data in the variables being analyzed. Listwise deletion, on the other hand, removes entire cases or rows that have any missing values in any of the variables being analyzed. One major limitation of listwise deletion is that it can lead to a significant reduction in sample size and statistical power, which can affect the generalizability of the results.\n",
        "\n",
        "    - Mean imputation:\n",
        "\n",
        "    Mean imputation involves replacing the missing value with the mean of the observed values for the same variable. Mean imputation is easy to implement and is often used when dealing with continuous variables. However, it has several limitations, including that it does not preserve the correlation structure between variables, and it can bias the results if the missing data is not missing completely at random (MCAR).\n",
        "\n",
        "    - Mode imputation:\n",
        "\n",
        "    Mode imputation involves replacing the missing value with the most common value for the variable. This method is often used for categorical variables where the most common category can be determined. However, like mean imputation, mode imputation can also introduce bias into the data.\n",
        "\n",
        "    - Hot Deck Imputation:\n",
        "\n",
        "    Hot deck imputation involves replacing the missing value with a value from another observation that is similar to the one with the missing value. This method can be useful when dealing with datasets where the data is missing at random (MAR) or when a small number of variables have missing data. The similar observation can be identified using methods such as nearest neighbor or clustering algorithms.\n",
        "\n",
        "    - Multiple imputation:\n",
        "    \n",
        "    Multiple imputation is a more sophisticated method that involves creating multiple copies of the dataset, each with different imputed values for missing data. This method is designed to preserve the variability and uncertainty that is present in the data, and it can be useful when dealing with datasets that have a large number of missing values. It involves a four-step process, which includes imputing missing values, analyzing the imputed datasets, pooling the results, and finally, reporting the results.\n",
        "\n",
        "    - Maximum Likelihood Imputation:\n",
        "\n",
        "    Maximum likelihood imputation is a statistical approach that estimates the distribution of the data using the observed data, and then uses this distribution to impute the missing values. This approach can be useful when dealing with continuous data that is normally distributed. It can also account for the uncertainty associated with the imputed values.\n",
        "\n",
        "- In conclusion, there are many methods available for handling missing data values, each with its own advantages and disadvantages. It's important to carefully consider the data and research question when choosing an appropriate method for dealing with missing data. Some of the key factors to consider when selecting a method include the proportion of missing values, the nature of the data (i.e., continuous or categorical), and the extent to which the missing data is missing at random."
      ],
      "metadata": {
        "id": "CLRzOD4jasdR"
      }
    },
    {
      "cell_type": "markdown",
      "source": [
        "# 8. What are the various data pre-processing techniques? Explain dimensionality reduction and function selection in a few words."
      ],
      "metadata": {
        "id": "v2-EaxOeYZzQ"
      }
    },
    {
      "cell_type": "markdown",
      "source": [
        "- Data pre-processing is an essential step in machine learning that involves transforming raw data into a format that can be used by machine learning algorithms. There are various techniques used in data pre-processing, including:\n",
        "\n",
        "    1. Data cleaning: This involves removing or correcting any errors, inconsistencies, or missing data in the dataset.\n",
        "\n",
        "    2. Data transformation: This involves changing the scale, units, or format of the data to make it more suitable for analysis.\n",
        "\n",
        "    3. Data integration: This involves combining data from multiple sources to create a single dataset.\n",
        "\n",
        "    4. Data reduction: This involves reducing the amount of data in the dataset without losing too much information.\n",
        "\n",
        "    5. Data discretization: This involves converting continuous data into discrete categories.\n",
        "\n",
        "    6. Feature selection: This involves selecting the most relevant features or variables to be used in the analysis.\n",
        "\n",
        "    7. Dimensionality reduction: This involves reducing the number of variables or features in the dataset without losing too much information.\n",
        "\n",
        "- Dimensionality reduction and feature selection are two important techniques used in data pre-processing that involve reducing the number of variables in the dataset.\n",
        "\n",
        "- Dimensionality reduction refers to techniques that reduce the number of dimensions or variables in a dataset by finding a lower-dimensional representation that captures most of the relevant information in the data. The goal is to reduce the complexity of the data while retaining as much of the important information as possible. This can be done through methods such as Principal Component Analysis (PCA), Singular Value Decomposition (SVD), or t-Distributed Stochastic Neighbor Embedding (t-SNE).\n",
        "\n",
        "- Feature selection, on the other hand, refers to the process of selecting a subset of the available features that are most relevant for predicting the outcome variable. This is often done to improve the accuracy and efficiency of machine learning models. Feature selection can be done using methods such as filter methods, wrapper methods, or embedded methods. Filter methods rank features based on some statistical measure of their relevance, such as mutual information or correlation. Wrapper methods use a model to evaluate the performance of the feature subset, while embedded methods include feature selection as part of the model building process."
      ],
      "metadata": {
        "id": "GUVBf3PRbEHI"
      }
    },
    {
      "cell_type": "markdown",
      "source": [
        "# 9) i. What is the IQR? What criteria are used to assess it?\n",
        "\n",
        "# ii. Describe the various components of a box plot in detail? When will the lower whisker surpass the upper whisker in length? How can box plots be used to identify outliers?"
      ],
      "metadata": {
        "id": "YWzxhWpGbQLl"
      }
    },
    {
      "cell_type": "markdown",
      "source": [
        "i) \n",
        "- The Interquartile Range (IQR) is a measure of variability that is used in descriptive statistics to describe the spread of a dataset. It is the difference between the upper quartile (Q3) and the lower quartile (Q1) of a dataset.\n",
        "\n",
        "- The IQR is a robust measure of dispersion that is less sensitive to extreme values than the range, which is the difference between the maximum and minimum values in a dataset. It is particularly useful when dealing with skewed distributions or datasets with outliers.\n",
        "\n",
        "- To assess the IQR, one can use the following criteria:\n",
        "\n",
        "    - Calculate the lower quartile (Q1) and the upper quartile (Q3) of the dataset.\n",
        "    - Calculate the IQR as the difference between Q3 and Q1.\n",
        "    - Calculate the lower outlier limit as Q1 - 1.5 x IQR.\n",
        "    - Calculate the upper outlier limit as Q3 + 1.5 x IQR.\n",
        "    - Identify any data points that fall below the lower outlier limit or above the upper outlier limit.\n",
        "- Data points that fall outside the outlier limits are often considered to be potential outliers or extreme values. However, it is important to note that the decision to treat a data point as an outlier should not be based solely on its distance from the mean or median. Outliers should be identified based on domain knowledge and careful consideration of the context in which the data was collected."
      ],
      "metadata": {
        "id": "YehN4CC3b2LT"
      }
    },
    {
      "cell_type": "markdown",
      "source": [
        "ii)\n",
        "- A box plot is a graphical representation of a dataset that summarizes its distribution by displaying several key statistics, including the median, quartiles, and outliers. The components of a box plot are:\n",
        "\n",
        "    - Minimum: The smallest observation in the dataset that is not an outlier.\n",
        "\n",
        "    - Lower quartile (Q1): The value separating the lowest 25% of observations from the rest of the dataset.\n",
        "\n",
        "    - Median: The value that divides the dataset into two equal halves.\n",
        "\n",
        "    - Upper quartile (Q3): The value separating the highest 25% of observations from the rest of the dataset.\n",
        "\n",
        "    - Maximum: The largest observation in the dataset that is not an outlier.\n",
        "\n",
        "    - Interquartile range (IQR): The distance between the upper and lower quartiles, which contains 50% of the observations.\n",
        "\n",
        "    - Whiskers: Lines extending from the box to the minimum and maximum values that are not outliers. Whiskers are used to show the range of the data and to identify potential outliers.\n",
        "\n",
        "    - Outliers: Data points that are more than 1.5 times the IQR away from the upper or lower quartile.\n",
        "\n",
        "- The lower whisker will surpass the upper whisker in length when the median is greater than the mean. This can happen when the distribution is highly skewed, with a long tail on the right-hand side.\n",
        "\n",
        "- Box plots can be used to identify outliers by looking for data points that fall outside the whiskers. Outliers are often shown as individual points or asterisks outside the whiskers. These points may represent measurement errors, or they may reflect true anomalies in the data that require further investigation.\n",
        "\n",
        "- Box plots can also be used to compare the distributions of two or more datasets. By comparing the medians, quartiles, and ranges of each box, one can quickly see how the distributions differ from one another. Box plots are particularly useful for identifying differences in location, spread, and skewness between different datasets."
      ],
      "metadata": {
        "id": "aWVrYRTocHYQ"
      }
    },
    {
      "cell_type": "markdown",
      "source": [
        "# 10. Make brief notes on any two of the following:\n",
        "\n",
        "1. Data collected at regular intervals\n",
        "\n",
        "2. The gap between the quartiles\n",
        "\n",
        "3. Use a cross-tab"
      ],
      "metadata": {
        "id": "_fIBK8pFcXUk"
      }
    },
    {
      "cell_type": "markdown",
      "source": [
        "- Data collected at regular intervals: When data is collected at regular intervals, it is often referred to as time series data. Time series data is commonly used to analyze trends and patterns over time, and is used in a variety of applications, including finance, economics, and weather forecasting.\n",
        "\n",
        "- The gap between the quartiles: The gap between the quartiles, or the interquartile range (IQR), is a measure of the spread or variability of a dataset. It is calculated by subtracting the lower quartile (Q1) from the upper quartile (Q3). The IQR is useful for detecting outliers and assessing the distribution of the data. A larger IQR indicates a greater spread in the data, while a smaller IQR indicates a more tightly clustered dataset.\n",
        "\n",
        "- Use a cross-tab: A cross-tab, or cross-tabulation, is a method of analyzing data by creating a table that shows the frequency or distribution of two or more variables. Cross-tabs are commonly used in market research, social sciences, and business analytics to gain insight into relationships between variables. They can be used to analyze categorical data, such as demographic data or survey responses, and can help identify patterns and trends in the data. Cross-tabs are often used in conjunction with statistical tests, such as chi-square tests, to determine whether there is a significant relationship between the variables being analyzed."
      ],
      "metadata": {
        "id": "BNmUKwxVc-FW"
      }
    },
    {
      "cell_type": "markdown",
      "source": [
        "# 11. Make a comparison between:\n",
        "\n",
        "1. Data with nominal and ordinal values\n",
        "\n",
        "2. Histogram and box plot\n",
        "\n",
        "3. The average and median"
      ],
      "metadata": {
        "id": "qv2OEhO6dB_r"
      }
    },
    {
      "cell_type": "markdown",
      "source": [
        "- Data with nominal and ordinal values: Nominal data is a categorical data type where variables are not ordered or ranked, and the data is separated into distinct categories. Examples of nominal data include colors or names of different items. Ordinal data, on the other hand, is also a categorical data type where variables are ranked in a specific order, but the differences between the rankings may not be uniform. Examples of ordinal data include rankings of movies from worst to best or ratings of customer satisfaction from poor to excellent.\n",
        "\n",
        "- Histogram and box plot: Both histograms and box plots are used to represent the distribution of a dataset. A histogram is a graph that shows the frequency of values in a dataset that fall into various intervals or \"bins\" along the x-axis. A box plot, also known as a box-and-whisker plot, is a graph that shows the quartiles and range of a dataset, as well as any outliers. While both histograms and box plots can be used to visualize the shape and spread of data, histograms provide more detailed information about the frequency and density of the data, while box plots provide a clearer picture of the distribution's median, quartiles, and outliers.\n",
        "\n",
        "- The average and median: Both the average and median are measures of central tendency used to describe a dataset. The average, also known as the mean, is the sum of all values in a dataset divided by the number of values. The median, on the other hand, is the middle value of a dataset when all values are sorted in ascending or descending order. While the average is influenced by extreme values or outliers, the median is not. Therefore, the median is often a better measure of central tendency for datasets with extreme values or outliers, while the average is better suited for datasets with a more symmetrical distribution."
      ],
      "metadata": {
        "id": "EmIZ5gD4dWpg"
      }
    }
  ]
}